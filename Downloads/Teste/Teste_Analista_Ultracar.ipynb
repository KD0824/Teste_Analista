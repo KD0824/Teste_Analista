{
 "cells": [
  {
   "cell_type": "markdown",
   "metadata": {},
   "source": [
    "**I. ESTABELECENDO A CONEXÃO COM O BANCO DE DADOS**"
   ]
  },
  {
   "cell_type": "code",
   "execution_count": 17,
   "metadata": {},
   "outputs": [],
   "source": [
    "import psycopg2\n",
    "import pandas as pd\n",
    "\n",
    "conn = psycopg2.connect(\n",
    "    dbname='meubanco',\n",
    "    user='postgres',\n",
    "    password='8991',\n",
    "    host='localhost',\n",
    "    port='5432'\n",
    ")\n",
    "\n",
    "# Criando um cursor para executar comandos SQL\n",
    "cur = conn.cursor()"
   ]
  },
  {
   "cell_type": "markdown",
   "metadata": {},
   "source": [
    "**II. AJUSTE DE DADOS**"
   ]
  },
  {
   "cell_type": "markdown",
   "metadata": {},
   "source": [
    "**1. Remover Erros nos Registros**"
   ]
  },
  {
   "cell_type": "code",
   "execution_count": 18,
   "metadata": {},
   "outputs": [
    {
     "name": "stdout",
     "output_type": "stream",
     "text": [
      "Registros com campos nulos removidos da tabela clientes\n",
      "Registros com campos nulos removidos da tabela orcamentos\n",
      "Registros com campos nulos removidos da tabela ordens_servico\n",
      "Registros com campos nulos removidos da tabela veiculos\n",
      "Registros com campos nulos removidos da tabela produtos\n",
      "Registros com campos nulos removidos da tabela produtos_orcamento\n",
      "Registros com campos nulos removidos da tabela fornecedores\n",
      "Registros com campos nulos removidos da tabela servicos\n"
     ]
    }
   ],
   "source": [
    "tabelas = {\n",
    "    'clientes': \"\"\"\n",
    "        DELETE FROM public.clientes\n",
    "        WHERE id_cliente IS NULL \n",
    "            OR nome IS NULL \n",
    "            OR telefone IS NULL \n",
    "            OR email IS NULL \n",
    "            OR endereco IS NULL \n",
    "            OR cidade IS NULL \n",
    "            OR estado IS NULL \n",
    "            OR cep IS NULL \n",
    "            OR data_nascimento IS NULL \n",
    "            OR genero IS NULL \n",
    "            OR status_cliente IS NULL;\n",
    "    \"\"\",\n",
    "    'orcamentos': \"\"\"\n",
    "        DELETE FROM public.orcamentos\n",
    "        WHERE id_orcamento IS NULL \n",
    "            OR data_orcamento IS NULL \n",
    "            OR valor_total IS NULL \n",
    "            OR status_orcamento IS NULL \n",
    "            OR id_cliente IS NULL \n",
    "            OR id_veiculo IS NULL;\n",
    "    \"\"\",\n",
    "    'ordens_servico': \"\"\"\n",
    "        DELETE FROM public.ordens_servico\n",
    "        WHERE id_ordem_servico IS NULL \n",
    "            OR data_abertura IS NULL \n",
    "            OR data_fechamento IS NULL \n",
    "            OR status_os IS NULL \n",
    "            OR id_funcionario IS NULL \n",
    "            OR id_veiculo IS NULL \n",
    "            OR id_orcamento IS NULL \n",
    "            OR valor_total IS NULL;\n",
    "    \"\"\",\n",
    "    'veiculos': \"\"\"\n",
    "        DELETE FROM public.veiculos\n",
    "        WHERE id_veiculo IS NULL \n",
    "            OR placa IS NULL \n",
    "            OR modelo IS NULL \n",
    "            OR marca IS NULL \n",
    "            OR ano_fabricacao IS NULL \n",
    "            OR cor IS NULL \n",
    "            OR tipo_combustivel IS NULL \n",
    "            OR id_cliente IS NULL;\n",
    "    \"\"\",\n",
    "    'produtos': \"\"\"\n",
    "        DELETE FROM public.produtos\n",
    "        WHERE id_produto IS NULL \n",
    "            OR nome_produto IS NULL \n",
    "            OR descricao IS NULL \n",
    "            OR preco_custo IS NULL \n",
    "            OR preco_venda IS NULL \n",
    "            OR id_fornecedor IS NULL;\n",
    "    \"\"\",\n",
    "    'produtos_orcamento': \"\"\"\n",
    "        DELETE FROM public.produtos_orcamento\n",
    "        WHERE id_produto_orcamento IS NULL \n",
    "            OR tipo_item IS NULL \n",
    "            OR id_item IS NULL \n",
    "            OR quantidade IS NULL \n",
    "            OR preco_unitario IS NULL \n",
    "            OR id_orcamento IS NULL;\n",
    "    \"\"\",\n",
    "    'fornecedores': \"\"\"\n",
    "        DELETE FROM public.fornecedores\n",
    "        WHERE id_fornecedor IS NULL \n",
    "            OR nome_fornecedor IS NULL \n",
    "            OR cnpj IS NULL \n",
    "            OR telefone IS NULL \n",
    "            OR email IS NULL \n",
    "            OR endereco IS NULL \n",
    "            OR contato_responsavel IS NULL;\n",
    "    \"\"\",\n",
    "    'servicos': \"\"\"\n",
    "        DELETE FROM public.servicos\n",
    "        WHERE id_servico IS NULL \n",
    "            OR descricao_servico IS NULL \n",
    "            OR preco_servico IS NULL \n",
    "            OR tempo_estimado IS NULL;\n",
    "    \"\"\"\n",
    "}\n",
    "\n",
    "# Removendo os registros com campos nulos para cada tabela\n",
    "for tabela, query in tabelas.items():\n",
    "    cur.execute(query)\n",
    "    conn.commit()\n",
    "    print(f\"Registros com campos nulos removidos da tabela {tabela}\")"
   ]
  },
  {
   "cell_type": "markdown",
   "metadata": {},
   "source": [
    "**2. Padronização dos Campos de Telefone**"
   ]
  },
  {
   "cell_type": "code",
   "execution_count": 19,
   "metadata": {},
   "outputs": [],
   "source": [
    "import re\n",
    "\n",
    "def padronizar_telefone(telefone):\n",
    "    telefone = re.sub(r'\\D', '', telefone)\n",
    "    if len(telefone) == 10:\n",
    "        return f\"({telefone[:2]}) {telefone[2:6]}-{telefone[6:]}\"\n",
    "    elif len(telefone) == 11:\n",
    "        return f\"({telefone[:2]}) {telefone[2:7]}-{telefone[7:]}\"\n",
    "    return telefone\n",
    "\n",
    "cur.execute(\"\"\"\n",
    "    UPDATE public.clientes\n",
    "    SET telefone = %s\n",
    "    WHERE id_cliente = %s;\n",
    "\"\"\", (padronizar_telefone('1234567890'), 10))\n",
    "conn.commit()"
   ]
  },
  {
   "cell_type": "markdown",
   "metadata": {},
   "source": [
    "**3. Formatação dos Campos CPF/CNPJ**"
   ]
  },
  {
   "cell_type": "code",
   "execution_count": 20,
   "metadata": {},
   "outputs": [],
   "source": [
    "def formatar_cpf(cpf):\n",
    "    cpf = re.sub(r'\\D', '', cpf)\n",
    "    return f\"{cpf[:3]}.{cpf[3:6]}.{cpf[6:9]}-{cpf[9:]}\"\n",
    "\n",
    "def formatar_cnpj(cnpj):\n",
    "    cnpj = re.sub(r'\\D', '', cnpj)\n",
    "    return f\"{cnpj[:2]}.{cnpj[2:5]}.{cnpj[5:8]}/{cnpj[8:12]}-{cnpj[12:]}\"\n",
    "\n",
    "cur.execute(\"\"\"\n",
    "    UPDATE public.fornecedores\n",
    "    SET cnpj = %s\n",
    "    WHERE id_fornecedor = %s;\n",
    "\"\"\", (formatar_cnpj('12345678000195'), 1))\n",
    "conn.commit()"
   ]
  },
  {
   "cell_type": "markdown",
   "metadata": {},
   "source": [
    "**4. Padronização de Nomes e Placas de Veículos**"
   ]
  },
  {
   "cell_type": "code",
   "execution_count": 21,
   "metadata": {},
   "outputs": [],
   "source": [
    "def padronizar_nome(nome):\n",
    "    return nome.title().strip()\n",
    "\n",
    "def padronizar_placa(placa):\n",
    "    return placa.upper().strip()\n",
    "\n",
    "cur.execute(\"\"\"\n",
    "    UPDATE public.veiculos\n",
    "    SET placa = %s\n",
    "    WHERE id_veiculo = %s;\n",
    "\"\"\", (padronizar_placa('abc-1234'), 1))\n",
    "conn.commit()"
   ]
  },
  {
   "cell_type": "markdown",
   "metadata": {},
   "source": [
    "**III. EXPORTAÇÃO DE DADOS**"
   ]
  },
  {
   "cell_type": "code",
   "execution_count": 22,
   "metadata": {},
   "outputs": [],
   "source": [
    "def exportar_tabela(nome_tabela, arquivo):\n",
    "    cur.execute(f\"SELECT * FROM public.{nome_tabela};\")\n",
    "    dados = cur.fetchall()\n",
    "    colunas = [desc[0] for desc in cur.description]\n",
    "    df = pd.DataFrame(dados, columns=colunas)\n",
    "    df.to_excel(arquivo, index=False)\n",
    "\n",
    "exportar_tabela('clientes', 'clientes_tratados.xlsx')\n",
    "exportar_tabela('fornecedores', 'fornecedores_tratados.xlsx')\n",
    "exportar_tabela('veiculos', 'veiculos_tratados.xlsx')\n",
    "exportar_tabela('produtos', 'produtos_tratados.xlsx')\n",
    "exportar_tabela('produtos_orcamento', 'produtos_orcamento_tratados.xlsx')\n",
    "exportar_tabela('ordens_servico', 'ordens_servico_tratados.xlsx')\n",
    "exportar_tabela('orcamentos', 'orcamentos_tratados.xlsx')\n",
    "exportar_tabela('servicos', 'servicos_tratados.xlsx')\n",
    "\n",
    "\n",
    "cur.close()\n",
    "conn.close()"
   ]
  }
 ],
 "metadata": {
  "kernelspec": {
   "display_name": "Python 3",
   "language": "python",
   "name": "python3"
  },
  "language_info": {
   "codemirror_mode": {
    "name": "ipython",
    "version": 3
   },
   "file_extension": ".py",
   "mimetype": "text/x-python",
   "name": "python",
   "nbconvert_exporter": "python",
   "pygments_lexer": "ipython3",
   "version": "3.12.4"
  }
 },
 "nbformat": 4,
 "nbformat_minor": 2
}
